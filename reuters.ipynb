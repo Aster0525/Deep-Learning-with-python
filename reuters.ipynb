{
 "cells": [
  {
   "cell_type": "code",
   "execution_count": 1,
   "metadata": {},
   "outputs": [
    {
     "name": "stderr",
     "output_type": "stream",
     "text": [
      "Using TensorFlow backend.\n"
     ]
    }
   ],
   "source": [
    "from keras.datasets import reuters\n",
    "\n",
    "(train_data, train_labels),(test_data, test_labels) = reuters.load_data(num_words=10000)"
   ]
  },
  {
   "cell_type": "code",
   "execution_count": 2,
   "metadata": {},
   "outputs": [
    {
     "data": {
      "text/plain": [
       "8982"
      ]
     },
     "execution_count": 2,
     "metadata": {},
     "output_type": "execute_result"
    }
   ],
   "source": [
    "len(train_data)"
   ]
  },
  {
   "cell_type": "code",
   "execution_count": 3,
   "metadata": {},
   "outputs": [
    {
     "data": {
      "text/plain": [
       "2246"
      ]
     },
     "execution_count": 3,
     "metadata": {},
     "output_type": "execute_result"
    }
   ],
   "source": [
    "len(test_data)"
   ]
  },
  {
   "cell_type": "code",
   "execution_count": 9,
   "metadata": {},
   "outputs": [],
   "source": [
    "import numpy as np\n",
    "\n",
    "def vectorize_sequences(sequences, dimension=10000):\n",
    "    results = np.zeros((len(sequences), dimension))\n",
    "    for i, sequence in enumerate(sequences):\n",
    "        results[i, sequence] = 1\n",
    "    return results\n",
    "\n",
    "x_train = vectorize_sequences(train_data)\n",
    "x_test = vectorize_sequences(test_data)"
   ]
  },
  {
   "cell_type": "code",
   "execution_count": 10,
   "metadata": {},
   "outputs": [],
   "source": [
    "def to_one_hot(labels, dimension=46):\n",
    "    results = np.zeros((len(labels), dimension))\n",
    "    for i, label in enumerate(labels):\n",
    "        results[i, label] = 1\n",
    "    return results\n",
    "\n",
    "y_train = to_one_hot(train_labels)\n",
    "y_test = to_one_hot(test_labels)"
   ]
  },
  {
   "cell_type": "markdown",
   "metadata": {},
   "source": [
    "## keras内置方法实现独热编码\n",
    "from keras.utils.np_utils import to_categorical\n",
    "\n",
    "one_hot_train_labels = to_categorical(train_labels)  \n",
    "one_hot_test_labels = to_categorical(test_labels)"
   ]
  },
  {
   "cell_type": "code",
   "execution_count": 11,
   "metadata": {},
   "outputs": [],
   "source": [
    "from keras import models\n",
    "from keras import layers"
   ]
  },
  {
   "cell_type": "code",
   "execution_count": 12,
   "metadata": {},
   "outputs": [
    {
     "name": "stdout",
     "output_type": "stream",
     "text": [
      "WARNING:tensorflow:From D:\\Anaconda3\\lib\\site-packages\\keras\\backend\\tensorflow_backend.py:74: The name tf.get_default_graph is deprecated. Please use tf.compat.v1.get_default_graph instead.\n",
      "\n",
      "WARNING:tensorflow:From D:\\Anaconda3\\lib\\site-packages\\keras\\backend\\tensorflow_backend.py:517: The name tf.placeholder is deprecated. Please use tf.compat.v1.placeholder instead.\n",
      "\n",
      "WARNING:tensorflow:From D:\\Anaconda3\\lib\\site-packages\\keras\\backend\\tensorflow_backend.py:4138: The name tf.random_uniform is deprecated. Please use tf.random.uniform instead.\n",
      "\n"
     ]
    }
   ],
   "source": [
    "model = models.Sequential()\n",
    "model.add(layers.Dense(64, activation='relu', input_shape=(10000,)))\n",
    "model.add(layers.Dense(64, activation='relu'))\n",
    "model.add(layers.Dense(46, activation='softmax'))"
   ]
  },
  {
   "cell_type": "code",
   "execution_count": 13,
   "metadata": {},
   "outputs": [
    {
     "name": "stdout",
     "output_type": "stream",
     "text": [
      "WARNING:tensorflow:From D:\\Anaconda3\\lib\\site-packages\\keras\\optimizers.py:790: The name tf.train.Optimizer is deprecated. Please use tf.compat.v1.train.Optimizer instead.\n",
      "\n",
      "WARNING:tensorflow:From D:\\Anaconda3\\lib\\site-packages\\keras\\backend\\tensorflow_backend.py:3295: The name tf.log is deprecated. Please use tf.math.log instead.\n",
      "\n"
     ]
    }
   ],
   "source": [
    "model.compile(optimizer='rmsprop',\n",
    "             loss='categorical_crossentropy',\n",
    "             metrics=['accuracy'])"
   ]
  },
  {
   "cell_type": "code",
   "execution_count": 14,
   "metadata": {},
   "outputs": [],
   "source": [
    "x_val = x_train[:1000]\n",
    "partial_x_train = x_train[1000:]\n",
    "\n",
    "y_val = y_train[:1000]\n",
    "partial_y_train = y_train[1000:]\n"
   ]
  },
  {
   "cell_type": "code",
   "execution_count": 15,
   "metadata": {},
   "outputs": [
    {
     "name": "stdout",
     "output_type": "stream",
     "text": [
      "WARNING:tensorflow:From D:\\Anaconda3\\lib\\site-packages\\tensorflow_core\\python\\ops\\math_grad.py:1424: where (from tensorflow.python.ops.array_ops) is deprecated and will be removed in a future version.\n",
      "Instructions for updating:\n",
      "Use tf.where in 2.0, which has the same broadcast rule as np.where\n",
      "WARNING:tensorflow:From D:\\Anaconda3\\lib\\site-packages\\keras\\backend\\tensorflow_backend.py:986: The name tf.assign_add is deprecated. Please use tf.compat.v1.assign_add instead.\n",
      "\n",
      "WARNING:tensorflow:From D:\\Anaconda3\\lib\\site-packages\\keras\\backend\\tensorflow_backend.py:973: The name tf.assign is deprecated. Please use tf.compat.v1.assign instead.\n",
      "\n",
      "WARNING:tensorflow:From D:\\Anaconda3\\lib\\site-packages\\keras\\backend\\tensorflow_backend.py:2741: The name tf.Session is deprecated. Please use tf.compat.v1.Session instead.\n",
      "\n",
      "Train on 7982 samples, validate on 1000 samples\n",
      "Epoch 1/20\n",
      "WARNING:tensorflow:From D:\\Anaconda3\\lib\\site-packages\\keras\\backend\\tensorflow_backend.py:174: The name tf.get_default_session is deprecated. Please use tf.compat.v1.get_default_session instead.\n",
      "\n",
      "WARNING:tensorflow:From D:\\Anaconda3\\lib\\site-packages\\keras\\backend\\tensorflow_backend.py:181: The name tf.ConfigProto is deprecated. Please use tf.compat.v1.ConfigProto instead.\n",
      "\n",
      "WARNING:tensorflow:From D:\\Anaconda3\\lib\\site-packages\\keras\\backend\\tensorflow_backend.py:190: The name tf.global_variables is deprecated. Please use tf.compat.v1.global_variables instead.\n",
      "\n",
      "WARNING:tensorflow:From D:\\Anaconda3\\lib\\site-packages\\keras\\backend\\tensorflow_backend.py:199: The name tf.is_variable_initialized is deprecated. Please use tf.compat.v1.is_variable_initialized instead.\n",
      "\n",
      "WARNING:tensorflow:From D:\\Anaconda3\\lib\\site-packages\\keras\\backend\\tensorflow_backend.py:206: The name tf.variables_initializer is deprecated. Please use tf.compat.v1.variables_initializer instead.\n",
      "\n",
      "7982/7982 [==============================] - 3s 402us/step - loss: 2.5334 - acc: 0.4959 - val_loss: 1.7253 - val_acc: 0.6110\n",
      "Epoch 2/20\n",
      "7982/7982 [==============================] - 1s 120us/step - loss: 1.4500 - acc: 0.6864 - val_loss: 1.3509 - val_acc: 0.7050\n",
      "Epoch 3/20\n",
      "7982/7982 [==============================] - 1s 115us/step - loss: 1.0993 - acc: 0.7640 - val_loss: 1.1734 - val_acc: 0.7420\n",
      "Epoch 4/20\n",
      "7982/7982 [==============================] - 1s 112us/step - loss: 0.8718 - acc: 0.8153 - val_loss: 1.0846 - val_acc: 0.7570\n",
      "Epoch 5/20\n",
      "7982/7982 [==============================] - 1s 113us/step - loss: 0.7046 - acc: 0.8478 - val_loss: 0.9863 - val_acc: 0.7810\n",
      "Epoch 6/20\n",
      "7982/7982 [==============================] - 1s 110us/step - loss: 0.5682 - acc: 0.8791 - val_loss: 0.9408 - val_acc: 0.8040\n",
      "Epoch 7/20\n",
      "7982/7982 [==============================] - 1s 121us/step - loss: 0.4606 - acc: 0.9025 - val_loss: 0.9111 - val_acc: 0.8010\n",
      "Epoch 8/20\n",
      "7982/7982 [==============================] - 1s 113us/step - loss: 0.3716 - acc: 0.9226 - val_loss: 0.9371 - val_acc: 0.7890\n",
      "Epoch 9/20\n",
      "7982/7982 [==============================] - 1s 110us/step - loss: 0.3041 - acc: 0.9307 - val_loss: 0.8932 - val_acc: 0.8060\n",
      "Epoch 10/20\n",
      "7982/7982 [==============================] - 1s 111us/step - loss: 0.2540 - acc: 0.9425 - val_loss: 0.9078 - val_acc: 0.8110\n",
      "Epoch 11/20\n",
      "7982/7982 [==============================] - 1s 112us/step - loss: 0.2183 - acc: 0.9473 - val_loss: 0.9169 - val_acc: 0.8120\n",
      "Epoch 12/20\n",
      "7982/7982 [==============================] - 1s 110us/step - loss: 0.1870 - acc: 0.9514 - val_loss: 0.9099 - val_acc: 0.8130\n",
      "Epoch 13/20\n",
      "7982/7982 [==============================] - 1s 114us/step - loss: 0.1696 - acc: 0.9519 - val_loss: 0.9350 - val_acc: 0.8090\n",
      "Epoch 14/20\n",
      "7982/7982 [==============================] - 1s 112us/step - loss: 0.1531 - acc: 0.9557 - val_loss: 0.9663 - val_acc: 0.8040\n",
      "Epoch 15/20\n",
      "7982/7982 [==============================] - 1s 116us/step - loss: 0.1384 - acc: 0.9557 - val_loss: 0.9703 - val_acc: 0.8140\n",
      "Epoch 16/20\n",
      "7982/7982 [==============================] - 1s 115us/step - loss: 0.1310 - acc: 0.9555 - val_loss: 1.0269 - val_acc: 0.8040\n",
      "Epoch 17/20\n",
      "7982/7982 [==============================] - 1s 114us/step - loss: 0.1212 - acc: 0.9578 - val_loss: 1.0256 - val_acc: 0.7980\n",
      "Epoch 18/20\n",
      "7982/7982 [==============================] - 1s 113us/step - loss: 0.1196 - acc: 0.9574 - val_loss: 1.0432 - val_acc: 0.8090\n",
      "Epoch 19/20\n",
      "7982/7982 [==============================] - 1s 112us/step - loss: 0.1133 - acc: 0.9593 - val_loss: 1.0984 - val_acc: 0.7960\n",
      "Epoch 20/20\n",
      "7982/7982 [==============================] - 1s 114us/step - loss: 0.1106 - acc: 0.9594 - val_loss: 1.0706 - val_acc: 0.8010\n"
     ]
    }
   ],
   "source": [
    "history = model.fit(partial_x_train,\n",
    "                   partial_y_train,\n",
    "                   epochs=20,\n",
    "                   batch_size=512,\n",
    "                   validation_data=(x_val, y_val))"
   ]
  },
  {
   "cell_type": "code",
   "execution_count": 17,
   "metadata": {},
   "outputs": [
    {
     "data": {
      "image/png": "[encoded data removed]",
      "text/plain": [
       "<Figure size 432x288 with 1 Axes>"
      ]
     },
     "metadata": {
      "needs_background": "light"
     },
     "output_type": "display_data"
    }
   ],
   "source": [
    "import matplotlib.pyplot as plt\n",
    "\n",
    "loss = history.history['loss']\n",
    "val_loss = history.history['val_loss']\n",
    "\n",
    "epochs = range(1, len(loss)+1)\n",
    "\n",
    "plt.plot(epochs, loss, 'bo', label='Training loss')\n",
    "plt.plot(epochs, val_loss, 'b', label='Validation loss')\n",
    "plt.title('Training and Validation loss')\n",
    "plt.xlabel('Epochs')\n",
    "plt.ylabel('Loss')\n",
    "plt.legend( )\n",
    "\n",
    "plt.show( )"
   ]
  },
  {
   "cell_type": "code",
   "execution_count": 18,
   "metadata": {},
   "outputs": [
    {
     "data": {
      "image/png": "[encoded data removed]",
      "text/plain": [
       "<Figure size 432x288 with 1 Axes>"
      ]
     },
     "metadata": {
      "needs_background": "light"
     },
     "output_type": "display_data"
    }
   ],
   "source": [
    "plt.clf( )\n",
    "\n",
    "acc = history.history['acc']\n",
    "val_acc = history.history['val_acc']\n",
    "\n",
    "plt.plot(epochs, acc, 'bo', label='Training accuracy')\n",
    "plt.plot(epochs, val_acc, 'b', label='Validation accuracy')\n",
    "plt.title(\"Training and Validation accuracy\")\n",
    "plt.xlabel('Epochs')\n",
    "plt.ylabel('Accuracy')\n",
    "plt.legend( )\n",
    "\n",
    "plt.show( )\n"
   ]
  },
  {
   "cell_type": "code",
   "execution_count": 19,
   "metadata": {},
   "outputs": [
    {
     "name": "stdout",
     "output_type": "stream",
     "text": [
      "Train on 7982 samples, validate on 1000 samples\n",
      "Epoch 1/9\n",
      "7982/7982 [==============================] - 2s 284us/step - loss: 2.5405 - acc: 0.5223 - val_loss: 1.6795 - val_acc: 0.6540\n",
      "Epoch 2/9\n",
      "7982/7982 [==============================] - 1s 142us/step - loss: 1.3791 - acc: 0.7100 - val_loss: 1.2821 - val_acc: 0.7230\n",
      "Epoch 3/9\n",
      "7982/7982 [==============================] - 1s 133us/step - loss: 1.0211 - acc: 0.7783 - val_loss: 1.1341 - val_acc: 0.7510\n",
      "Epoch 4/9\n",
      "7982/7982 [==============================] - 1s 138us/step - loss: 0.8026 - acc: 0.8241 - val_loss: 1.0553 - val_acc: 0.7560\n",
      "Epoch 5/9\n",
      "7982/7982 [==============================] - 1s 144us/step - loss: 0.6426 - acc: 0.8621 - val_loss: 0.9781 - val_acc: 0.7950\n",
      "Epoch 6/9\n",
      "7982/7982 [==============================] - 1s 144us/step - loss: 0.5144 - acc: 0.8909 - val_loss: 0.9107 - val_acc: 0.8120\n",
      "Epoch 7/9\n",
      "7982/7982 [==============================] - 1s 138us/step - loss: 0.4136 - acc: 0.9141 - val_loss: 0.8925 - val_acc: 0.8210\n",
      "Epoch 8/9\n",
      "7982/7982 [==============================] - 1s 137us/step - loss: 0.3365 - acc: 0.9280 - val_loss: 0.8721 - val_acc: 0.8270\n",
      "Epoch 9/9\n",
      "7982/7982 [==============================] - 1s 141us/step - loss: 0.2790 - acc: 0.9365 - val_loss: 0.9372 - val_acc: 0.8000\n",
      "2246/2246 [==============================] - 1s 506us/step\n"
     ]
    }
   ],
   "source": [
    "model = models.Sequential()\n",
    "model.add(layers.Dense(64, activation='relu', input_shape=(10000,)))\n",
    "model.add(layers.Dense(64, activation='relu'))\n",
    "model.add(layers.Dense(46, activation='softmax'))\n",
    "\n",
    "model.compile(optimizer='rmsprop',\n",
    "             loss='categorical_crossentropy',\n",
    "             metrics=['accuracy'])\n",
    "\n",
    "model.fit(partial_x_train,\n",
    "         partial_y_train,\n",
    "         epochs=9,\n",
    "         batch_size=512,\n",
    "         validation_data=(x_val, y_val))\n",
    "\n",
    "results = model.evaluate(x_test, y_test)"
   ]
  },
  {
   "cell_type": "code",
   "execution_count": 20,
   "metadata": {},
   "outputs": [
    {
     "data": {
      "text/plain": [
       "[1.023594636526473, 0.7764915405695499]"
      ]
     },
     "execution_count": 20,
     "metadata": {},
     "output_type": "execute_result"
    }
   ],
   "source": [
    "results"
   ]
  },
  {
   "cell_type": "code",
   "execution_count": 21,
   "metadata": {},
   "outputs": [
    {
     "data": {
      "text/plain": [
       "0.182546749777382"
      ]
     },
     "execution_count": 21,
     "metadata": {},
     "output_type": "execute_result"
    }
   ],
   "source": [
    "import copy\n",
    "test_labels_copy = copy.copy(test_labels)\n",
    "np.random.shuffle(test_labels_copy)\n",
    "hits_array = np.array(test_labels) == np.array(test_labels_copy)\n",
    "#统计hits_array中的值为（true和false）\n",
    "float(np.sum(hits_array)) / len(test_labels)\n",
    "#np.sum(hits_array)会统计hits_array中为true的个数"
   ]
  },
  {
   "cell_type": "code",
   "execution_count": 23,
   "metadata": {},
   "outputs": [
    {
     "data": {
      "text/plain": [
       "3"
      ]
     },
     "execution_count": 23,
     "metadata": {},
     "output_type": "execute_result"
    }
   ],
   "source": [
    "predictions = model.predict(x_test)\n",
    "np.argmax(predictions[0])"
   ]
  },
  {
   "cell_type": "markdown",
   "metadata": {},
   "source": [
    "## 处理标签和损失的另一种方法\n",
    "y_train = np.array(train_labels)  \n",
    "y_test = np.array(test_labels)  \n",
    "\n",
    "model.compile(optimizer = 'rmsprop', loss = 'sparse_categorical_crossentropy', metrics ='acc' )  \n",
    "这个新的损失函数在数学上与categorical_crossentropy完全相同，二者只是接口不同。  sparse_categorical_crossentropy是对整数标签使用的 "
   ]
  },
  {
   "cell_type": "markdown",
   "metadata": {},
   "source": [
    "## 具有信息瓶颈的模型"
   ]
  },
  {
   "cell_type": "code",
   "execution_count": 26,
   "metadata": {},
   "outputs": [
    {
     "name": "stdout",
     "output_type": "stream",
     "text": [
      "Train on 7982 samples, validate on 1000 samples\n",
      "Epoch 1/20\n",
      "7982/7982 [==============================] - 2s 289us/step - loss: 3.3942 - acc: 0.2021 - val_loss: 3.0209 - val_acc: 0.2310\n",
      "Epoch 2/20\n",
      "7982/7982 [==============================] - 1s 126us/step - loss: 2.7395 - acc: 0.2511 - val_loss: 2.5116 - val_acc: 0.3700\n",
      "Epoch 3/20\n",
      "7982/7982 [==============================] - 1s 117us/step - loss: 2.2367 - acc: 0.5236 - val_loss: 2.1431 - val_acc: 0.5550\n",
      "Epoch 4/20\n",
      "7982/7982 [==============================] - 1s 116us/step - loss: 1.8694 - acc: 0.5700 - val_loss: 1.8654 - val_acc: 0.5600\n",
      "Epoch 5/20\n",
      "7982/7982 [==============================] - 1s 111us/step - loss: 1.6117 - acc: 0.5763 - val_loss: 1.6915 - val_acc: 0.5660\n",
      "Epoch 6/20\n",
      "7982/7982 [==============================] - 1s 112us/step - loss: 1.4321 - acc: 0.5893 - val_loss: 1.5826 - val_acc: 0.5760\n",
      "Epoch 7/20\n",
      "7982/7982 [==============================] - 1s 113us/step - loss: 1.2967 - acc: 0.6298 - val_loss: 1.4936 - val_acc: 0.6250\n",
      "Epoch 8/20\n",
      "7982/7982 [==============================] - 1s 112us/step - loss: 1.1917 - acc: 0.6700 - val_loss: 1.4443 - val_acc: 0.6310\n",
      "Epoch 9/20\n",
      "7982/7982 [==============================] - 1s 118us/step - loss: 1.1054 - acc: 0.7047 - val_loss: 1.4038 - val_acc: 0.6640\n",
      "Epoch 10/20\n",
      "7982/7982 [==============================] - 1s 111us/step - loss: 1.0318 - acc: 0.7321 - val_loss: 1.3640 - val_acc: 0.6730\n",
      "Epoch 11/20\n",
      "7982/7982 [==============================] - 1s 111us/step - loss: 0.9729 - acc: 0.7476 - val_loss: 1.3545 - val_acc: 0.6780\n",
      "Epoch 12/20\n",
      "7982/7982 [==============================] - 1s 109us/step - loss: 0.9182 - acc: 0.7587 - val_loss: 1.3476 - val_acc: 0.6810\n",
      "Epoch 13/20\n",
      "7982/7982 [==============================] - 1s 110us/step - loss: 0.8734 - acc: 0.7672 - val_loss: 1.3461 - val_acc: 0.6840\n",
      "Epoch 14/20\n",
      "7982/7982 [==============================] - 1s 114us/step - loss: 0.8326 - acc: 0.7765 - val_loss: 1.3305 - val_acc: 0.6960\n",
      "Epoch 15/20\n",
      "7982/7982 [==============================] - 1s 109us/step - loss: 0.7962 - acc: 0.7858 - val_loss: 1.3346 - val_acc: 0.7020\n",
      "Epoch 16/20\n",
      "7982/7982 [==============================] - 1s 116us/step - loss: 0.7621 - acc: 0.7900 - val_loss: 1.3470 - val_acc: 0.6980\n",
      "Epoch 17/20\n",
      "7982/7982 [==============================] - 1s 117us/step - loss: 0.7292 - acc: 0.7968 - val_loss: 1.3539 - val_acc: 0.7010\n",
      "Epoch 18/20\n",
      "7982/7982 [==============================] - 1s 109us/step - loss: 0.7012 - acc: 0.8021 - val_loss: 1.3561 - val_acc: 0.7010\n",
      "Epoch 19/20\n",
      "7982/7982 [==============================] - 1s 113us/step - loss: 0.6733 - acc: 0.8073 - val_loss: 1.3603 - val_acc: 0.6960\n",
      "Epoch 20/20\n",
      "7982/7982 [==============================] - 1s 113us/step - loss: 0.6484 - acc: 0.8136 - val_loss: 1.3874 - val_acc: 0.7010\n",
      "2246/2246 [==============================] - 0s 134us/step\n"
     ]
    }
   ],
   "source": [
    "model = models.Sequential( )\n",
    "model.add(layers.Dense(64, activation='relu', input_shape=(10000,)))\n",
    "model.add(layers.Dense(4, activation='relu'))\n",
    "model.add(layers.Dense(46,activation='softmax'))\n",
    "\n",
    "model.compile(optimizer='rmsprop',\n",
    "             loss='categorical_crossentropy',\n",
    "             metrics=['accuracy'])\n",
    "\n",
    "model.fit(partial_x_train,\n",
    "         partial_y_train,\n",
    "         epochs=20,\n",
    "         batch_size=512,\n",
    "         validation_data=(x_val, y_val))\n",
    "\n",
    "results = model.evaluate(x_test,y_test)"
   ]
  },
  {
   "cell_type": "code",
   "execution_count": 27,
   "metadata": {},
   "outputs": [
    {
     "data": {
      "text/plain": [
       "[1.5379016626549955, 0.6727515583524508]"
      ]
     },
     "execution_count": 27,
     "metadata": {},
     "output_type": "execute_result"
    }
   ],
   "source": [
    "results"
   ]
  },
  {
   "cell_type": "markdown",
   "metadata": {},
   "source": [
    "## 正则化"
   ]
  },
  {
   "cell_type": "markdown",
   "metadata": {},
   "source": [
    "from keras import regularizers  \n",
    "regularizers.l1(0.001)&nbsp;  #L1正则化    \n",
    "regularizers.l1_l2(l1=0.001, l2=0.001) &nbsp; #同时做L1和L2正则化"
   ]
  },
  {
   "cell_type": "markdown",
   "metadata": {},
   "source": [
    "## Dropout\n",
    "在 Keras 中，你可以通过 Dropout 层向网络中引入 dropout，dropout 将被应用于<font color='red'>前面一层的输出</font>。 \n",
    "\n",
    "<font size = 4>model.add(layers.Dropout(0.5))</font>"
   ]
  },
  {
   "cell_type": "code",
   "execution_count": null,
   "metadata": {},
   "outputs": [],
   "source": []
  }
 ],
 "metadata": {
  "kernelspec": {
   "display_name": "Python 3",
   "language": "python",
   "name": "python3"
  },
  "language_info": {
   "codemirror_mode": {
    "name": "ipython",
    "version": 3
   },
   "file_extension": ".py",
   "mimetype": "text/x-python",
   "name": "python",
   "nbconvert_exporter": "python",
   "pygments_lexer": "ipython3",
   "version": "3.7.4"
  }
 },
 "nbformat": 4,
 "nbformat_minor": 2
}
